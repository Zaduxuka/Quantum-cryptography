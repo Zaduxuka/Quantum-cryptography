{
 "cells": [
  {
   "cell_type": "markdown",
   "id": "f6c0b0bf",
   "metadata": {},
   "source": [
    "# Some data analyzing\n"
   ]
  },
  {
   "cell_type": "code",
   "execution_count": 38,
   "id": "1a937b98",
   "metadata": {},
   "outputs": [],
   "source": [
    "import pandas as pd\n",
    "import os\n",
    "\n",
    "df_b: pd.DataFrame = pd.read_excel(os.path.join(\"QPU IBM Brisbane.xlsx\"))\n",
    "df_t: pd.DataFrame = pd.read_excel(os.path.join(\"QPU IBM Torino.xlsx\"))\n",
    "df_s: pd.DataFrame = pd.read_excel(os.path.join(\"Simulador.xlsx\"))\n"
   ]
  },
  {
   "cell_type": "code",
   "execution_count": 39,
   "id": "9d050e9b",
   "metadata": {},
   "outputs": [
    {
     "data": {
      "application/vnd.microsoft.datawrangler.viewer.v0+json": {
       "columns": [
        {
         "name": "index",
         "rawType": "int64",
         "type": "integer"
        },
        {
         "name": "Número",
         "rawType": "int64",
         "type": "integer"
        },
        {
         "name": "Frecuencia",
         "rawType": "int64",
         "type": "integer"
        }
       ],
       "ref": "26bb7f46-699a-42d5-af6d-23c8f075ec67",
       "rows": [
        [
         "48",
         "48",
         "34"
        ],
        [
         "112",
         "112",
         "32"
        ],
        [
         "68",
         "68",
         "31"
        ],
        [
         "44",
         "44",
         "30"
        ],
        [
         "180",
         "180",
         "30"
        ],
        [
         "0",
         "0",
         "29"
        ],
        [
         "220",
         "220",
         "29"
        ],
        [
         "64",
         "64",
         "29"
        ],
        [
         "224",
         "224",
         "29"
        ],
        [
         "198",
         "198",
         "28"
        ],
        [
         "252",
         "252",
         "27"
        ],
        [
         "194",
         "194",
         "27"
        ],
        [
         "110",
         "110",
         "26"
        ],
        [
         "240",
         "240",
         "26"
        ],
        [
         "66",
         "66",
         "26"
        ],
        [
         "30",
         "30",
         "26"
        ],
        [
         "222",
         "222",
         "25"
        ],
        [
         "94",
         "94",
         "25"
        ],
        [
         "114",
         "114",
         "25"
        ],
        [
         "104",
         "104",
         "25"
        ],
        [
         "16",
         "16",
         "25"
        ],
        [
         "36",
         "36",
         "25"
        ],
        [
         "208",
         "208",
         "25"
        ],
        [
         "160",
         "160",
         "24"
        ],
        [
         "254",
         "254",
         "24"
        ],
        [
         "209",
         "209",
         "24"
        ],
        [
         "69",
         "69",
         "24"
        ],
        [
         "174",
         "174",
         "23"
        ],
        [
         "124",
         "124",
         "23"
        ],
        [
         "156",
         "156",
         "23"
        ],
        [
         "226",
         "226",
         "23"
        ],
        [
         "28",
         "28",
         "23"
        ],
        [
         "182",
         "182",
         "23"
        ],
        [
         "246",
         "246",
         "23"
        ],
        [
         "238",
         "238",
         "23"
        ],
        [
         "122",
         "122",
         "22"
        ],
        [
         "92",
         "92",
         "22"
        ],
        [
         "37",
         "37",
         "22"
        ],
        [
         "72",
         "72",
         "22"
        ],
        [
         "88",
         "88",
         "22"
        ],
        [
         "244",
         "244",
         "22"
        ],
        [
         "230",
         "230",
         "22"
        ],
        [
         "162",
         "162",
         "22"
        ],
        [
         "242",
         "242",
         "22"
        ],
        [
         "241",
         "241",
         "21"
        ],
        [
         "236",
         "236",
         "21"
        ],
        [
         "218",
         "218",
         "21"
        ],
        [
         "212",
         "212",
         "21"
        ],
        [
         "21",
         "21",
         "21"
        ],
        [
         "53",
         "53",
         "21"
        ]
       ],
       "shape": {
        "columns": 2,
        "rows": 256
       }
      },
      "text/html": [
       "<div>\n",
       "<style scoped>\n",
       "    .dataframe tbody tr th:only-of-type {\n",
       "        vertical-align: middle;\n",
       "    }\n",
       "\n",
       "    .dataframe tbody tr th {\n",
       "        vertical-align: top;\n",
       "    }\n",
       "\n",
       "    .dataframe thead th {\n",
       "        text-align: right;\n",
       "    }\n",
       "</style>\n",
       "<table border=\"1\" class=\"dataframe\">\n",
       "  <thead>\n",
       "    <tr style=\"text-align: right;\">\n",
       "      <th></th>\n",
       "      <th>Número</th>\n",
       "      <th>Frecuencia</th>\n",
       "    </tr>\n",
       "  </thead>\n",
       "  <tbody>\n",
       "    <tr>\n",
       "      <th>48</th>\n",
       "      <td>48</td>\n",
       "      <td>34</td>\n",
       "    </tr>\n",
       "    <tr>\n",
       "      <th>112</th>\n",
       "      <td>112</td>\n",
       "      <td>32</td>\n",
       "    </tr>\n",
       "    <tr>\n",
       "      <th>68</th>\n",
       "      <td>68</td>\n",
       "      <td>31</td>\n",
       "    </tr>\n",
       "    <tr>\n",
       "      <th>44</th>\n",
       "      <td>44</td>\n",
       "      <td>30</td>\n",
       "    </tr>\n",
       "    <tr>\n",
       "      <th>180</th>\n",
       "      <td>180</td>\n",
       "      <td>30</td>\n",
       "    </tr>\n",
       "    <tr>\n",
       "      <th>...</th>\n",
       "      <td>...</td>\n",
       "      <td>...</td>\n",
       "    </tr>\n",
       "    <tr>\n",
       "      <th>138</th>\n",
       "      <td>138</td>\n",
       "      <td>6</td>\n",
       "    </tr>\n",
       "    <tr>\n",
       "      <th>123</th>\n",
       "      <td>123</td>\n",
       "      <td>5</td>\n",
       "    </tr>\n",
       "    <tr>\n",
       "      <th>47</th>\n",
       "      <td>47</td>\n",
       "      <td>5</td>\n",
       "    </tr>\n",
       "    <tr>\n",
       "      <th>13</th>\n",
       "      <td>13</td>\n",
       "      <td>5</td>\n",
       "    </tr>\n",
       "    <tr>\n",
       "      <th>137</th>\n",
       "      <td>137</td>\n",
       "      <td>5</td>\n",
       "    </tr>\n",
       "  </tbody>\n",
       "</table>\n",
       "<p>256 rows × 2 columns</p>\n",
       "</div>"
      ],
      "text/plain": [
       "     Número  Frecuencia\n",
       "48       48          34\n",
       "112     112          32\n",
       "68       68          31\n",
       "44       44          30\n",
       "180     180          30\n",
       "..      ...         ...\n",
       "138     138           6\n",
       "123     123           5\n",
       "47       47           5\n",
       "13       13           5\n",
       "137     137           5\n",
       "\n",
       "[256 rows x 2 columns]"
      ]
     },
     "execution_count": 39,
     "metadata": {},
     "output_type": "execute_result"
    }
   ],
   "source": [
    "df_b.sort_values(by=\"Frecuencia\", ascending=False)"
   ]
  },
  {
   "cell_type": "code",
   "execution_count": 40,
   "id": "808a555e",
   "metadata": {},
   "outputs": [
    {
     "data": {
      "application/vnd.microsoft.datawrangler.viewer.v0+json": {
       "columns": [
        {
         "name": "index",
         "rawType": "int64",
         "type": "integer"
        },
        {
         "name": "Número",
         "rawType": "int64",
         "type": "integer"
        },
        {
         "name": "Frecuencia",
         "rawType": "int64",
         "type": "integer"
        }
       ],
       "ref": "915b1cd8-87db-4873-8161-29faf31214d1",
       "rows": [
        [
         "68",
         "68",
         "41"
        ],
        [
         "64",
         "64",
         "41"
        ],
        [
         "192",
         "192",
         "41"
        ],
        [
         "160",
         "160",
         "41"
        ],
        [
         "195",
         "195",
         "38"
        ],
        [
         "35",
         "35",
         "37"
        ],
        [
         "163",
         "163",
         "36"
        ],
        [
         "32",
         "32",
         "35"
        ],
        [
         "33",
         "33",
         "35"
        ],
        [
         "162",
         "162",
         "35"
        ],
        [
         "194",
         "194",
         "35"
        ],
        [
         "67",
         "67",
         "33"
        ],
        [
         "69",
         "69",
         "32"
        ],
        [
         "193",
         "193",
         "32"
        ],
        [
         "80",
         "80",
         "32"
        ],
        [
         "40",
         "40",
         "30"
        ],
        [
         "129",
         "129",
         "30"
        ],
        [
         "66",
         "66",
         "29"
        ],
        [
         "99",
         "99",
         "29"
        ],
        [
         "130",
         "130",
         "29"
        ],
        [
         "209",
         "209",
         "29"
        ],
        [
         "196",
         "196",
         "28"
        ],
        [
         "226",
         "226",
         "28"
        ],
        [
         "170",
         "170",
         "28"
        ],
        [
         "3",
         "3",
         "28"
        ],
        [
         "72",
         "72",
         "27"
        ],
        [
         "199",
         "199",
         "27"
        ],
        [
         "1",
         "1",
         "27"
        ],
        [
         "2",
         "2",
         "27"
        ],
        [
         "96",
         "96",
         "27"
        ],
        [
         "34",
         "34",
         "26"
        ],
        [
         "82",
         "82",
         "26"
        ],
        [
         "198",
         "198",
         "26"
        ],
        [
         "134",
         "134",
         "26"
        ],
        [
         "65",
         "65",
         "26"
        ],
        [
         "42",
         "42",
         "26"
        ],
        [
         "70",
         "70",
         "26"
        ],
        [
         "197",
         "197",
         "26"
        ],
        [
         "128",
         "128",
         "25"
        ],
        [
         "103",
         "103",
         "25"
        ],
        [
         "164",
         "164",
         "24"
        ],
        [
         "146",
         "146",
         "24"
        ],
        [
         "210",
         "210",
         "24"
        ],
        [
         "147",
         "147",
         "24"
        ],
        [
         "138",
         "138",
         "24"
        ],
        [
         "131",
         "131",
         "24"
        ],
        [
         "97",
         "97",
         "24"
        ],
        [
         "83",
         "83",
         "24"
        ],
        [
         "18",
         "18",
         "24"
        ],
        [
         "0",
         "0",
         "24"
        ]
       ],
       "shape": {
        "columns": 2,
        "rows": 256
       }
      },
      "text/html": [
       "<div>\n",
       "<style scoped>\n",
       "    .dataframe tbody tr th:only-of-type {\n",
       "        vertical-align: middle;\n",
       "    }\n",
       "\n",
       "    .dataframe tbody tr th {\n",
       "        vertical-align: top;\n",
       "    }\n",
       "\n",
       "    .dataframe thead th {\n",
       "        text-align: right;\n",
       "    }\n",
       "</style>\n",
       "<table border=\"1\" class=\"dataframe\">\n",
       "  <thead>\n",
       "    <tr style=\"text-align: right;\">\n",
       "      <th></th>\n",
       "      <th>Número</th>\n",
       "      <th>Frecuencia</th>\n",
       "    </tr>\n",
       "  </thead>\n",
       "  <tbody>\n",
       "    <tr>\n",
       "      <th>68</th>\n",
       "      <td>68</td>\n",
       "      <td>41</td>\n",
       "    </tr>\n",
       "    <tr>\n",
       "      <th>64</th>\n",
       "      <td>64</td>\n",
       "      <td>41</td>\n",
       "    </tr>\n",
       "    <tr>\n",
       "      <th>192</th>\n",
       "      <td>192</td>\n",
       "      <td>41</td>\n",
       "    </tr>\n",
       "    <tr>\n",
       "      <th>160</th>\n",
       "      <td>160</td>\n",
       "      <td>41</td>\n",
       "    </tr>\n",
       "    <tr>\n",
       "      <th>195</th>\n",
       "      <td>195</td>\n",
       "      <td>38</td>\n",
       "    </tr>\n",
       "    <tr>\n",
       "      <th>...</th>\n",
       "      <td>...</td>\n",
       "      <td>...</td>\n",
       "    </tr>\n",
       "    <tr>\n",
       "      <th>221</th>\n",
       "      <td>221</td>\n",
       "      <td>4</td>\n",
       "    </tr>\n",
       "    <tr>\n",
       "      <th>255</th>\n",
       "      <td>255</td>\n",
       "      <td>4</td>\n",
       "    </tr>\n",
       "    <tr>\n",
       "      <th>253</th>\n",
       "      <td>253</td>\n",
       "      <td>4</td>\n",
       "    </tr>\n",
       "    <tr>\n",
       "      <th>189</th>\n",
       "      <td>189</td>\n",
       "      <td>3</td>\n",
       "    </tr>\n",
       "    <tr>\n",
       "      <th>252</th>\n",
       "      <td>252</td>\n",
       "      <td>3</td>\n",
       "    </tr>\n",
       "  </tbody>\n",
       "</table>\n",
       "<p>256 rows × 2 columns</p>\n",
       "</div>"
      ],
      "text/plain": [
       "     Número  Frecuencia\n",
       "68       68          41\n",
       "64       64          41\n",
       "192     192          41\n",
       "160     160          41\n",
       "195     195          38\n",
       "..      ...         ...\n",
       "221     221           4\n",
       "255     255           4\n",
       "253     253           4\n",
       "189     189           3\n",
       "252     252           3\n",
       "\n",
       "[256 rows x 2 columns]"
      ]
     },
     "execution_count": 40,
     "metadata": {},
     "output_type": "execute_result"
    }
   ],
   "source": [
    "df_t.sort_values(by=\"Frecuencia\", ascending=False)"
   ]
  }
 ],
 "metadata": {
  "kernelspec": {
   "display_name": "cwq",
   "language": "python",
   "name": "python3"
  },
  "language_info": {
   "codemirror_mode": {
    "name": "ipython",
    "version": 3
   },
   "file_extension": ".py",
   "mimetype": "text/x-python",
   "name": "python",
   "nbconvert_exporter": "python",
   "pygments_lexer": "ipython3",
   "version": "3.13.7"
  }
 },
 "nbformat": 4,
 "nbformat_minor": 5
}
