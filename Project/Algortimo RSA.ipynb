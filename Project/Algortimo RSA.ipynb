{
 "cells": [
  {
   "cell_type": "markdown",
   "id": "19c76123",
   "metadata": {},
   "source": [
    "# Algoritmo de RSA\n"
   ]
  },
  {
   "cell_type": "code",
   "execution_count": null,
   "id": "e477373a",
   "metadata": {},
   "outputs": [
    {
     "name": "stdout",
     "output_type": "stream",
     "text": [
      "p es 3847, q es 4409, n es 16961423, φ(16961423) es 16953168, e es 7088435 y d es 12275579 \n",
      "Este es tu clave pública: [16961423, 7088435]\n",
      "Esta es tu clave privada: [16961423, 12275579]\n",
      "Este es el mensaje encriptado: [13797759, 15461780, 10772198, 7994012]\n",
      "Este es tu mensaje desencriptado: Hola\n"
     ]
    }
   ],
   "source": [
    "from function_helper import generate_prime\n",
    "import math\n",
    "import random\n",
    "\n",
    "\"\"\" Un código que puede encriptar mensajes con cifrado RSA \"\"\"\n",
    "\n",
    "min_value = 2500\n",
    "max_value = 6000\n",
    "\n",
    "p, q = generate_prime(min_value, max_value), generate_prime(\n",
    "    min_value, max_value)\n",
    "while q == p:\n",
    "    q = generate_prime(min_value, max_value)\n",
    "\n",
    "n = p * q\n",
    "\n",
    "φ = (p-1)*(q-1)\n",
    "\n",
    "e = 2\n",
    "list_e = []\n",
    "while e < φ:  # Se lista los valores posibles para e\n",
    "    if math.gcd(e, φ) == 1:\n",
    "        list_e.append(e)\n",
    "    e += 1\n",
    "e = list_e[random.randint(0, len(list_e))]\n",
    "\n",
    "k = 1\n",
    "r = (1+k*φ) % e\n",
    "while r != 0:\n",
    "    k += 1\n",
    "    r = (1+k*φ) % e\n",
    "d = int((1+k*φ) / e)\n",
    "\n",
    "public_key = [n, e]\n",
    "private_key = [n, d]\n",
    "\n",
    "print(f\"p es {p}, q es {q}, n es {n}, φ({n}) es {φ}, e es {e} y d es {d} \")\n",
    "print(f\"Este es tu clave pública: {public_key}\")\n",
    "print(f\"Esta es tu clave privada: {private_key}\")\n",
    "\n",
    "message = \"\"\n",
    "message = input(\"Escribe tu mensaje\")\n",
    "# Convierte el mensaje en números\n",
    "encoded_message = [ord(ch) for ch in message]\n",
    "# m ^ e mod n, esta es la formula del cifrado\n",
    "cipher_text = [pow(ch, e, n) for ch in encoded_message]\n",
    "print(f\"Este es el mensaje encriptado: {cipher_text}\")\n",
    "# Ahora la desincriptación\n",
    "decoded_message = [pow(ch, d, n) for ch in cipher_text]\n",
    "decipher_text = \"\".join(chr(ch) for ch in decoded_message)\n",
    "print(f\"Este es tu mensaje desencriptado: {decipher_text}\")"
   ]
  }
 ],
 "metadata": {
  "kernelspec": {
   "display_name": "cwq",
   "language": "python",
   "name": "python3"
  },
  "language_info": {
   "codemirror_mode": {
    "name": "ipython",
    "version": 3
   },
   "file_extension": ".py",
   "mimetype": "text/x-python",
   "name": "python",
   "nbconvert_exporter": "python",
   "pygments_lexer": "ipython3",
   "version": "3.13.5"
  }
 },
 "nbformat": 4,
 "nbformat_minor": 5
}
